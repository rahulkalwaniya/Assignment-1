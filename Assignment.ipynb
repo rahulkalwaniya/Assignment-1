{
 "cells": [
  {
   "cell_type": "code",
   "execution_count": 2,
   "id": "fe568b62-cd0b-4394-9ce5-e5328aac4424",
   "metadata": {},
   "outputs": [],
   "source": [
    "##Q.1\n",
    "# (i)String\n",
    "var_string = \"Hello, World!\"\n"
   ]
  },
  {
   "cell_type": "code",
   "execution_count": 4,
   "id": "d92cf8df-99e3-4f52-b71b-1d7de7a11e8d",
   "metadata": {},
   "outputs": [],
   "source": [
    "# (ii) List\n",
    "var_list = [1, 2, 3, 4, 5]\n"
   ]
  },
  {
   "cell_type": "code",
   "execution_count": 5,
   "id": "8fb087f4-f384-4e94-a262-c13fff24edfd",
   "metadata": {},
   "outputs": [],
   "source": [
    "# (iii) Float\n",
    "var_float = 3.14\n"
   ]
  },
  {
   "cell_type": "code",
   "execution_count": 6,
   "id": "49d0728e-c664-4036-b0d9-06a2eade068e",
   "metadata": {},
   "outputs": [],
   "source": [
    "# (iv) Tuple\n",
    "var_tuple = (1, 2, 3)\n"
   ]
  },
  {
   "cell_type": "code",
   "execution_count": 7,
   "id": "053fbff4-0bb8-43fd-b1e6-57f72ddf153d",
   "metadata": {},
   "outputs": [],
   "source": [
    "#Q. 2\n",
    "#(i) \n",
    "var1 = ‘ ‘ # This is a string.\n",
    "#(ii) \n",
    "var2 = ‘[ DS , ML , Python]’ # This is also a string. \n",
    "#(iii) \n",
    "var3 = [ ‘DS’ , ’ML’ , ‘Python’ ] # This is a list containing strings.\n",
    "#(iv) \n",
    "var4 = 1.5 # This is a float.\n"
   ]
  },
  {
   "cell_type": "code",
   "execution_count": 8,
   "id": "19a531ee-20d9-4626-af2c-839cbb7b1a0d",
   "metadata": {},
   "outputs": [],
   "source": [
    "#Q. 3\n",
    "#(i) / - This is the division operator. It returns the quotient of the division. For example, 10 / 2 would return 5.0.\n",
    "#(ii) % - This is the modulus operator. It returns the remainder of the division. For example, 10 % 3 would return 1.\n",
    "#(iii) // - This is the floor division operator. It returns the largest possible integer from the division. For example, 10 // 3 would return 3.\n",
    "#(iv) ** - This is the exponentiation operator. It raises the number to the power of another number. For example, 2 ** 3 would return 8.\n"
   ]
  },
  {
   "cell_type": "code",
   "execution_count": 9,
   "id": "51d25841-f412-42c5-82df-5521be14cb51",
   "metadata": {},
   "outputs": [
    {
     "name": "stdout",
     "output_type": "stream",
     "text": [
      "1 <class 'int'>\n",
      "two <class 'str'>\n",
      "3.0 <class 'float'>\n",
      "(4, 5) <class 'tuple'>\n",
      "[6, 7] <class 'list'>\n",
      "8 <class 'int'>\n",
      "nine <class 'str'>\n",
      "10.0 <class 'float'>\n",
      "(11, 12) <class 'tuple'>\n",
      "13 <class 'int'>\n"
     ]
    }
   ],
   "source": [
    "#Q. 4\n",
    "my_list = [1, \"two\", 3.0, (4, 5), [6, 7], 8, \"nine\", 10.0, (11, 12), 13]\n",
    "\n",
    "for element in my_list:\n",
    "   \t\t print(element, type(element))\n"
   ]
  },
  {
   "cell_type": "code",
   "execution_count": 11,
   "id": "4b93d049-7c0c-4f82-8363-e3600bd056c4",
   "metadata": {},
   "outputs": [
    {
     "name": "stdout",
     "output_type": "stream",
     "text": [
      "A is divisible by B 1 times.\n"
     ]
    }
   ],
   "source": [
    "#Q.5\n",
    "A = 20\n",
    "B = 4\n",
    "count = 0\n",
    "\n",
    "while A % B == 0:\n",
    "    A = A / B\n",
    "    count += 1\n",
    "\n",
    "print(f\"A is divisible by B {count} times.\")\n"
   ]
  },
  {
   "cell_type": "code",
   "execution_count": 12,
   "id": "6e837b12-6742-42f9-a6ec-6265a415f53c",
   "metadata": {},
   "outputs": [
    {
     "name": "stdout",
     "output_type": "stream",
     "text": [
      "1 is not divisible by 3.\n",
      "2 is not divisible by 3.\n",
      "3 is divisible by 3.\n",
      "4 is not divisible by 3.\n",
      "5 is not divisible by 3.\n",
      "6 is divisible by 3.\n",
      "7 is not divisible by 3.\n",
      "8 is not divisible by 3.\n",
      "9 is divisible by 3.\n",
      "10 is not divisible by 3.\n",
      "11 is not divisible by 3.\n",
      "12 is divisible by 3.\n",
      "13 is not divisible by 3.\n",
      "14 is not divisible by 3.\n",
      "15 is divisible by 3.\n",
      "16 is not divisible by 3.\n",
      "17 is not divisible by 3.\n",
      "18 is divisible by 3.\n",
      "19 is not divisible by 3.\n",
      "20 is not divisible by 3.\n",
      "21 is divisible by 3.\n",
      "22 is not divisible by 3.\n",
      "23 is not divisible by 3.\n",
      "24 is divisible by 3.\n",
      "25 is not divisible by 3.\n"
     ]
    }
   ],
   "source": [
    "#Q.6 \n",
    "my_list = list(range(1, 26))\n",
    "\n",
    "for num in my_list:\n",
    "    if num % 3 == 0:\n",
    "        print(f\"{num} is divisible by 3.\")\n",
    "    else:\n",
    "        print(f\"{num} is not divisible by 3.\")\n"
   ]
  },
  {
   "cell_type": "code",
   "execution_count": null,
   "id": "fd41ae0b-ea98-4366-8ebe-f96da7fc5294",
   "metadata": {},
   "outputs": [],
   "source": [
    "#Q.7 \n",
    "\n",
    "#Mutable data types are those which can be changed after they are created. Lists and dictionaries are examples of mutable data types. For example, you can add, remove, or change elements in a list after it's created.\n",
    "\n",
    "#Immutable data types are those which cannot be changed after they are created. Strings and tuples are examples of immutable data types. For example, once a string is created, you cannot change its characters. You can only create a new string with the desired charact\n",
    "\n"
   ]
  }
 ],
 "metadata": {
  "kernelspec": {
   "display_name": "Python 3 (ipykernel)",
   "language": "python",
   "name": "python3"
  },
  "language_info": {
   "codemirror_mode": {
    "name": "ipython",
    "version": 3
   },
   "file_extension": ".py",
   "mimetype": "text/x-python",
   "name": "python",
   "nbconvert_exporter": "python",
   "pygments_lexer": "ipython3",
   "version": "3.10.8"
  }
 },
 "nbformat": 4,
 "nbformat_minor": 5
}
